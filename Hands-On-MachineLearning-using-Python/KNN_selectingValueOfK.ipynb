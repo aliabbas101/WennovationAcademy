{
 "cells": [
  {
   "cell_type": "code",
   "execution_count": 1,
   "metadata": {
    "scrolled": true
   },
   "outputs": [
    {
     "name": "stdout",
     "output_type": "stream",
     "text": [
      "   sepal-length  sepal-width  petal-length  petal-width  class\n",
      "0           5.1          3.5           1.4          0.2      0\n",
      "1           4.9          3.0           1.4          0.2      0\n",
      "2           4.7          3.2           1.3          0.2      0\n",
      "3           4.6          3.1           1.5          0.2      0\n",
      "4           5.0          3.6           1.4          0.2      0\n"
     ]
    }
   ],
   "source": [
    "import pandas as pd\n",
    "import numpy as np\n",
    "\n",
    "from sklearn.neighbors import KNeighborsClassifier\n",
    "from sklearn.datasets import load_iris\n",
    "names = ['sepal-length','sepal-width','petal-length','petal-width'];\n",
    "data = load_iris()\n",
    "\n",
    "dataset=pd.DataFrame(data=data.data,columns=names)\n",
    "dataset['class']=data.target\n",
    "print(dataset.head());\n",
    "\n",
    "\n"
   ]
  },
  {
   "cell_type": "code",
   "execution_count": 2,
   "metadata": {},
   "outputs": [
    {
     "name": "stdout",
     "output_type": "stream",
     "text": [
      "0.9736842105263158\n",
      "[[14  0  0]\n",
      " [ 0 12  0]\n",
      " [ 0  1 11]]\n",
      "              precision    recall  f1-score   support\n",
      "\n",
      "         0.0       1.00      1.00      1.00        14\n",
      "         1.0       0.92      1.00      0.96        12\n",
      "         2.0       1.00      0.92      0.96        12\n",
      "\n",
      "    accuracy                           0.97        38\n",
      "   macro avg       0.97      0.97      0.97        38\n",
      "weighted avg       0.98      0.97      0.97        38\n",
      "\n",
      "(150, 5)\n"
     ]
    }
   ],
   "source": [
    "from sklearn.model_selection import train_test_split\n",
    "from sklearn.neighbors import KNeighborsClassifier\n",
    "from sklearn.metrics import accuracy_score\n",
    "from sklearn.metrics import confusion_matrix\n",
    "from sklearn.metrics import classification_report\n",
    "\n",
    "array = dataset.values;\n",
    "X = array[:,0:4];\n",
    "Y = array[:,4];\n",
    "t_size = 0.25;\n",
    "\n",
    "X_train,X_test,Y_train,Y_test = train_test_split(X,Y,test_size=t_size);\n",
    "\n",
    "knn = KNeighborsClassifier(n_neighbors=40);\n",
    "knn.fit(X_train,Y_train);\n",
    "\n",
    "predictions = knn.predict(X_test);\n",
    "\n",
    "print(accuracy_score(Y_test,predictions));\n",
    "print(confusion_matrix(Y_test,predictions));\n",
    "print(classification_report(Y_test,predictions));\n",
    "\n",
    "print(dataset.shape);\n",
    "\n",
    "#KNN doesn't always perform well with high-dimensionality or categorical features.\n",
    "\n",
    " "
   ]
  },
  {
   "cell_type": "code",
   "execution_count": 5,
   "metadata": {},
   "outputs": [
    {
     "name": "stdout",
     "output_type": "stream",
     "text": [
      "0.07894736842105263\n",
      "0.07894736842105263\n",
      "0.07894736842105263\n",
      "0.05263157894736842\n",
      "0.07894736842105263\n",
      "0.05263157894736842\n",
      "0.05263157894736842\n",
      "0.05263157894736842\n",
      "0.05263157894736842\n",
      "0.05263157894736842\n",
      "0.07894736842105263\n",
      "0.07894736842105263\n",
      "0.07894736842105263\n",
      "0.05263157894736842\n",
      "0.07894736842105263\n",
      "0.07894736842105263\n",
      "0.07894736842105263\n",
      "0.07894736842105263\n",
      "0.07894736842105263\n",
      "0.07894736842105263\n",
      "0.07894736842105263\n",
      "0.07894736842105263\n",
      "0.07894736842105263\n",
      "0.05263157894736842\n",
      "0.05263157894736842\n",
      "0.05263157894736842\n",
      "0.05263157894736842\n",
      "0.05263157894736842\n",
      "0.05263157894736842\n",
      "0.05263157894736842\n",
      "0.05263157894736842\n",
      "0.05263157894736842\n",
      "0.05263157894736842\n",
      "0.05263157894736842\n",
      "0.05263157894736842\n",
      "0.05263157894736842\n",
      "0.05263157894736842\n",
      "0.05263157894736842\n",
      "0.05263157894736842\n"
     ]
    },
    {
     "data": {
      "image/png": "[encoded data removed]",
      "text/plain": [
       "<Figure size 864x432 with 1 Axes>"
      ]
     },
     "metadata": {
      "needs_background": "light"
     },
     "output_type": "display_data"
    }
   ],
   "source": [
    "error = []\n",
    "\n",
    "import matplotlib.pyplot as plt\n",
    "# Calculating error for K values between 1 and 40\n",
    "for i in range(1, 40):  \n",
    "    knn = KNeighborsClassifier(n_neighbors=i)\n",
    "    knn.fit(X_train, Y_train)\n",
    "    pred_i = knn.predict(X_test)\n",
    "    print(np.mean(pred_i != Y_test))\n",
    "    error.append(np.mean(pred_i != Y_test))\n",
    "    \n",
    "plt.figure(figsize=(12, 6))  \n",
    "plt.plot(range(1, 40), error, color='red', linestyle='dashed', marker='o',  markerfacecolor='blue', markersize=10)\n",
    "plt.title('Error Rate K Value')  \n",
    "plt.xlabel('K Value')  \n",
    "plt.ylabel('Mean Error') \n",
    "plt.show()"
   ]
  },
  {
   "cell_type": "code",
   "execution_count": 34,
   "metadata": {},
   "outputs": [
    {
     "name": "stdout",
     "output_type": "stream",
     "text": [
      "Predicted Values: [2. 0. 0. 1. 0. 1. 2. 1. 0. 1. 1. 1. 2. 2. 1. 1. 0. 1. 0. 2. 2. 2. 2. 0.\n",
      " 1. 0. 1. 2. 1. 2. 0. 0. 0. 2. 0. 0. 2. 0.]\n"
     ]
    }
   ],
   "source": [
    "predicted= knn.predict(X_test) \n",
    "print (\"Predicted Values:\", predicted)"
   ]
  },
  {
   "cell_type": "code",
   "execution_count": null,
   "metadata": {},
   "outputs": [],
   "source": []
  }
 ],
 "metadata": {
  "kernelspec": {
   "display_name": "Python 3",
   "language": "python",
   "name": "python3"
  },
  "language_info": {
   "codemirror_mode": {
    "name": "ipython",
    "version": 3
   },
   "file_extension": ".py",
   "mimetype": "text/x-python",
   "name": "python",
   "nbconvert_exporter": "python",
   "pygments_lexer": "ipython3",
   "version": "3.6.0"
  }
 },
 "nbformat": 4,
 "nbformat_minor": 2
}
