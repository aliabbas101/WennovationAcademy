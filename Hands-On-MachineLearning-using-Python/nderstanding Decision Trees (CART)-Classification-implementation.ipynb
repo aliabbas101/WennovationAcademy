{
 "cells": [
  {
   "cell_type": "code",
   "execution_count": 41,
   "metadata": {},
   "outputs": [],
   "source": [
    "import numpy as np\n",
    "import pandas as pd\n",
    "from sklearn.tree import DecisionTreeClassifier\n",
    "from sklearn.preprocessing import LabelEncoder\n",
    "from sklearn.model_selection import train_test_split"
   ]
  },
  {
   "cell_type": "code",
   "execution_count": 51,
   "metadata": {
    "scrolled": true
   },
   "outputs": [
    {
     "name": "stdout",
     "output_type": "stream",
     "text": [
      "    outlook  temprature  humdity  windy  play\n",
      "0         1           1        0      0     0\n",
      "1         1           1        0      1     0\n",
      "2         0           1        0      0     1\n",
      "3         2           2        0      0     1\n",
      "4         2           0        1      0     1\n",
      "5         2           0        1      1     0\n",
      "6         0           0        1      1     1\n",
      "7         1           2        0      0     0\n",
      "8         1           0        1      0     1\n",
      "9         2           2        1      0     1\n",
      "10        1           2        1      1     1\n",
      "11        0           2        0      1     1\n",
      "12        0           1        1      0     1\n",
      "13        2           2        0      1     0\n",
      "     outlook temprature humdity  windy play\n",
      "0      Rainy        Hot    High  False   No\n",
      "1      Rainy        Hot    High   True   No\n",
      "2   Overcast        Hot    High  False  Yes\n",
      "3      Sunny       Mild    High  False  Yes\n",
      "4      Sunny       Cool  Normal  False  Yes\n",
      "5      Sunny       Cool  Normal   True   No\n",
      "6   Overcast       Cool  Normal   True  Yes\n",
      "7      Rainy       Mild    High  False   No\n",
      "8      Rainy       Cool  Normal  False  Yes\n",
      "9      Sunny       Mild  Normal  False  Yes\n",
      "10     Rainy       Mild  Normal   True  Yes\n",
      "11  Overcast       Mild    High   True  Yes\n",
      "12  Overcast        Hot  Normal  False  Yes\n",
      "13     Sunny       Mild    High   True   No\n"
     ]
    }
   ],
   "source": [
    "dataset=pd.read_csv('temp.csv')\n",
    "dataset=pd.DataFrame(data=dataset.iloc[:,1:6].values,columns=[\"outlook\",\"temprature\",\"humdity\",\"windy\",\"play\"])\n",
    "filter = dataset[\"outlook\"]==\"Rainy\"\n",
    "dataset.where(filter).count()\n",
    "dataset_encoded=dataset.iloc[:,0:5]\n",
    "le=LabelEncoder()\n",
    "\n",
    "for i in dataset_encoded:\n",
    "    dataset_encoded[i]=le.fit_transform(dataset_encoded[i])\n",
    "\n",
    "print(dataset_encoded)\n",
    "print(dataset)"
   ]
  },
  {
   "cell_type": "code",
   "execution_count": 63,
   "metadata": {},
   "outputs": [
    {
     "name": "stdout",
     "output_type": "stream",
     "text": [
      "yes you can play\n"
     ]
    }
   ],
   "source": [
    "#Feature Set\n",
    "X=dataset_encoded.iloc[:,0:4].values\n",
    "#Label Set\n",
    "y=dataset_encoded.iloc[:,4].values\n",
    "\n",
    "X_train,X_test,y_train,y_test=train_test_split(X,y,test_size=1,random_state=2)\n",
    "\n",
    "model=DecisionTreeClassifier(criterion='gini')\n",
    "model.fit(X_train,y_train)\n",
    "\n",
    "\n",
    "if model.predict([[0,1,0,1]])==1:\n",
    "    print(\"yes you can play\")\n",
    "else:\n",
    "    print(\"no you cant\")"
   ]
  }
 ],
 "metadata": {
  "kernelspec": {
   "display_name": "Python 3",
   "language": "python",
   "name": "python3"
  },
  "language_info": {
   "codemirror_mode": {
    "name": "ipython",
    "version": 3
   },
   "file_extension": ".py",
   "mimetype": "text/x-python",
   "name": "python",
   "nbconvert_exporter": "python",
   "pygments_lexer": "ipython3",
   "version": "3.6.0"
  }
 },
 "nbformat": 4,
 "nbformat_minor": 2
}
